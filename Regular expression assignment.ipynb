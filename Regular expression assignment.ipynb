{
 "cells": [
  {
   "cell_type": "markdown",
   "id": "47354d5b",
   "metadata": {},
   "source": [
    "# Regular Expressions"
   ]
  },
  {
   "cell_type": "markdown",
   "id": "a4e4daa2",
   "metadata": {},
   "source": [
    "# Question1"
   ]
  },
  {
   "cell_type": "code",
   "execution_count": 6,
   "id": "f0aa8c74",
   "metadata": {},
   "outputs": [
    {
     "name": "stdout",
     "output_type": "stream",
     "text": [
      "Python:Exercises::PHP:exercises:\n"
     ]
    }
   ],
   "source": [
    "import regex as re\n",
    "Sample_Text = 'Python Exercises, PHP exercises.'\n",
    "Text = re.sub(\"[, .]\",\":\",Sample_Text)\n",
    "print(Text)"
   ]
  },
  {
   "cell_type": "markdown",
   "id": "9ecc930a",
   "metadata": {},
   "source": [
    "# Question2"
   ]
  },
  {
   "cell_type": "code",
   "execution_count": null,
   "id": "a8b8c784",
   "metadata": {},
   "outputs": [],
   "source": [
    "print(\"Enter any string\")\n",
    "string = input(\"write it :\")\n",
    "\n",
    "pattern = r'\\b[aeAE]\\w*'\n",
    "\n",
    "matches = re.findall(pattern,string)\n",
    "print(matches)\n",
    "\n"
   ]
  },
  {
   "cell_type": "markdown",
   "id": "9ec12a2d",
   "metadata": {},
   "source": [
    "# Question3"
   ]
  },
  {
   "cell_type": "code",
   "execution_count": 4,
   "id": "56555f46",
   "metadata": {},
   "outputs": [
    {
     "name": "stdout",
     "output_type": "stream",
     "text": [
      "['name', 'Suchi', 'nothing', 'anything']\n"
     ]
    }
   ],
   "source": [
    "import regex as re\n",
    "pattern = r'\\b\\w{4,}\\b'\n",
    "prog = re.compile(pattern)\n",
    "string = \"my name is Suchi. nothing is anything\"\n",
    "result = prog.findall(string)\n",
    "print(result)\n"
   ]
  },
  {
   "cell_type": "markdown",
   "id": "bee51af3",
   "metadata": {},
   "source": [
    "# Question4"
   ]
  },
  {
   "cell_type": "code",
   "execution_count": 7,
   "id": "66cd3bb4",
   "metadata": {},
   "outputs": [
    {
     "name": "stdout",
     "output_type": "stream",
     "text": [
      "['name', 'Suchi', 'eva']\n"
     ]
    }
   ],
   "source": [
    "import regex as re\n",
    "pattern = r'\\b\\w{3,5}\\b'\n",
    "prog = re.compile(pattern)\n",
    "string = \"my name is Suchi eva . nothing is anything\"\n",
    "result = prog.findall(string)\n",
    "print(result)\n",
    " "
   ]
  },
  {
   "cell_type": "markdown",
   "id": "b735bbd2",
   "metadata": {},
   "source": [
    "# question5"
   ]
  },
  {
   "cell_type": "code",
   "execution_count": 18,
   "id": "4fd16585",
   "metadata": {},
   "outputs": [
    {
     "name": "stdout",
     "output_type": "stream",
     "text": [
      "['example .com', 'hr@fliprobo .com', 'github .com', 'Hello Data Science World', 'Data Scientist']\n"
     ]
    }
   ],
   "source": [
    "import regex as re\n",
    "pattern = re.compile(r'\\(|\\)')\n",
    "strings = [\"example (.com)\", \"hr@fliprobo (.com)\", \"github (.com)\", \"Hello (Data Science World)\", \"Data (Scientist)\"]\n",
    "\n",
    "cleaned_strings = [pattern.sub('', s) for s in strings]\n",
    "print(cleaned_strings)\n"
   ]
  },
  {
   "cell_type": "markdown",
   "id": "82eec22f",
   "metadata": {},
   "source": [
    "# question6"
   ]
  },
  {
   "cell_type": "code",
   "execution_count": 48,
   "id": "79ead89f",
   "metadata": {},
   "outputs": [
    {
     "name": "stdout",
     "output_type": "stream",
     "text": [
      "['[\"example\", \"hr@fliprobo\", \"github\", \"Hello\", \"Data\"]']\n"
     ]
    }
   ],
   "source": [
    "import regex as re\n",
    "pattern = re.compile(r'\\s*\\([^)]*\\)')\n",
    "#strings = [\"example (.com)\", \"hr@fliprobo (.com)\", \"github (.com)\", \"Hello (Data Science World)\", \"Data (Scientist)\"]\n",
    "path = r'C:\\Users\\hp\\Downloads\\question6.txt'\n",
    "with open(path, 'r') as file:\n",
    "    lines = file.read()\n",
    "\n",
    "UpadatedStrings = [pattern.sub('', s) for s in lines]\n",
    "\n",
    "with open(path, 'w') as file:\n",
    "    file.writelines(UpadatedStrings)\n",
    "    \n",
    "print(UpadatedStrings)\n"
   ]
  },
  {
   "cell_type": "markdown",
   "id": "595a0e64",
   "metadata": {},
   "source": [
    "# question7"
   ]
  },
  {
   "cell_type": "code",
   "execution_count": 31,
   "id": "7ca1eae5",
   "metadata": {},
   "outputs": [
    {
     "name": "stdout",
     "output_type": "stream",
     "text": [
      "['Importance', 'Of', 'Regular', 'Expressions', 'In', 'Python']\n"
     ]
    }
   ],
   "source": [
    "import regex as re\n",
    "sample_text = \"ImportanceOfRegularExpressionsInPython\"\n",
    "pattern = r'[A-Z][a-z]*'\n",
    "cleaned_text = re.findall(pattern, sample_text)\n",
    "\n",
    "print(cleaned_text)"
   ]
  },
  {
   "cell_type": "markdown",
   "id": "92492f7c",
   "metadata": {},
   "source": [
    "# question8"
   ]
  },
  {
   "cell_type": "code",
   "execution_count": 43,
   "id": "1396037c",
   "metadata": {},
   "outputs": [
    {
     "name": "stdout",
     "output_type": "stream",
     "text": [
      "RegularExpression 1IsAn 2ImportantTopic 3InPython\n"
     ]
    }
   ],
   "source": [
    "import regex as re\n",
    "sample_text = \"RegularExpression1IsAn2ImportantTopic3InPython\"\n",
    "pattern = r'([A-Za-z])(\\d)'\n",
    "cleaned_text = re.sub(pattern,r'\\1 \\2',sample_text, flags= 1)\n",
    "print(cleaned_text)"
   ]
  },
  {
   "cell_type": "markdown",
   "id": "69ddf763",
   "metadata": {},
   "source": [
    "# question9"
   ]
  },
  {
   "cell_type": "code",
   "execution_count": 44,
   "id": "729dc807",
   "metadata": {},
   "outputs": [
    {
     "name": "stdout",
     "output_type": "stream",
     "text": [
      "RegularExpression 1 IsAn 2 ImportantTopic 3 InPython\n"
     ]
    }
   ],
   "source": [
    "import regex as re\n",
    "sample_text = \"RegularExpression1IsAn2ImportantTopic3InPython\"\n",
    "pattern = r'([A-Za-z])(\\d)([A-Za-z])'\n",
    "cleaned_text = re.sub(pattern,r'\\1 \\2 \\3',sample_text, flags= 1)\n",
    "print(cleaned_text)"
   ]
  },
  {
   "cell_type": "markdown",
   "id": "a44627ce",
   "metadata": {},
   "source": [
    "# question10"
   ]
  },
  {
   "cell_type": "code",
   "execution_count": 50,
   "id": "a4df490e",
   "metadata": {},
   "outputs": [
    {
     "name": "stdout",
     "output_type": "stream",
     "text": [
      "['xyz@domain.com', 'xyz.abc@sdomain.domain.com', 'hr@fliprobo.com']\n"
     ]
    }
   ],
   "source": [
    "import regex as re\n",
    "pattern = re.compile(r'\\b[A-Za-z0-9._%+-]+@[A-Za-z0-9.-]+\\.[A-Z|a-z]{2,7}\\b')\n",
    "#strings = [\"example (.com)\", \"hr@fliprobo (.com)\", \"github (.com)\", \"Hello (Data Science World)\", \"Data (Scientist)\"]\n",
    "path = r'C:\\Users\\hp\\Downloads\\question10.txt'\n",
    "with open(path, 'r') as file:\n",
    "    lines = file.read()\n",
    "\n",
    "UpadatedStrings = re.findall(pattern,lines)\n",
    "\n",
    "\n",
    "    \n",
    "print(UpadatedStrings)"
   ]
  },
  {
   "cell_type": "markdown",
   "id": "20ee10a8",
   "metadata": {},
   "source": [
    "# question11"
   ]
  },
  {
   "cell_type": "code",
   "execution_count": 56,
   "id": "115db5f0",
   "metadata": {},
   "outputs": [
    {
     "name": "stdout",
     "output_type": "stream",
     "text": [
      "string :  <regex.Match object; span=(0, 14), match='Hello_World123'>\n",
      "string :  None\n",
      "string :  <regex.Match object; span=(0, 12), match='Python_Rocks'>\n",
      "string :  <regex.Match object; span=(0, 2), match='42'>\n"
     ]
    }
   ],
   "source": [
    "import regex as re\n",
    "\n",
    "pattern = re.compile(r'^[a-zA-Z0-9_]+$')\n",
    "sample_text = [\"Hello_World123\", \"Invalid@String\", \"Python_Rocks\", \"42\"]\n",
    "\n",
    "for string in sample_text:\n",
    "    match = re.match(pattern, string)\n",
    "    print(\"string : \",match)\n",
    "    \n",
    "                     "
   ]
  },
  {
   "cell_type": "markdown",
   "id": "53a7903e",
   "metadata": {},
   "source": [
    "# question12"
   ]
  },
  {
   "cell_type": "code",
   "execution_count": 58,
   "id": "ed54abb3",
   "metadata": {},
   "outputs": [
    {
     "name": "stdout",
     "output_type": "stream",
     "text": [
      "string :  None\n",
      "string :  <regex.Match object; span=(0, 1), match='1'>\n",
      "string :  None\n",
      "string :  None\n",
      "string :  <regex.Match object; span=(0, 1), match='1'>\n"
     ]
    }
   ],
   "source": [
    "import regex as re\n",
    "\n",
    "pattern = re.compile(r'^[123]')\n",
    "sample_text = [\"Hello_World123\", \"123Invalid@String\", \"Python_Rocks\", \"42\",\"123\"]\n",
    "for string in sample_text:\n",
    "    match = re.match(pattern, string)\n",
    "    print(\"string : \",match)\n",
    "    "
   ]
  },
  {
   "cell_type": "markdown",
   "id": "4ade9889",
   "metadata": {},
   "source": [
    "# question13"
   ]
  },
  {
   "cell_type": "code",
   "execution_count": 59,
   "id": "a83cac9c",
   "metadata": {},
   "outputs": [
    {
     "name": "stdout",
     "output_type": "stream",
     "text": [
      "192.1.10.3\n"
     ]
    }
   ],
   "source": [
    "import regex as re\n",
    "pattern = r'\\b0+(\\d+)'\n",
    "ip_address = \"192.001.010.003\"\n",
    "cleaned_ip = re.sub(pattern, r'\\1', ip_address)\n",
    "print(cleaned_ip)"
   ]
  },
  {
   "cell_type": "markdown",
   "id": "4d0be481",
   "metadata": {},
   "source": [
    "# question14"
   ]
  },
  {
   "cell_type": "code",
   "execution_count": 62,
   "id": "478f1d31",
   "metadata": {},
   "outputs": [
    {
     "name": "stdout",
     "output_type": "stream",
     "text": [
      "<re.Match object; span=(3, 19), match='August 15th 1947'>\n"
     ]
    }
   ],
   "source": [
    "import re\n",
    "\n",
    "pattern = r'\\b(January|February|March|April|May|June|July|August|September|October|November|December)\\s+\\d{1,2}(st|nd|rd|th)?\\s+\\d{4}\\b'\n",
    "\n",
    "file_name = r'C:\\Users\\hp\\Downloads\\question14.txt'\n",
    "with open(file_name, 'r') as file:\n",
    "    contents = file.read()\n",
    "\n",
    "# Use re.search() to find the date string\n",
    "match = re.search(pattern, contents)\n",
    "print(match)"
   ]
  },
  {
   "cell_type": "markdown",
   "id": "ac221061",
   "metadata": {},
   "source": [
    "# question15"
   ]
  },
  {
   "cell_type": "code",
   "execution_count": 2,
   "id": "ea2a1930",
   "metadata": {},
   "outputs": [
    {
     "name": "stdout",
     "output_type": "stream",
     "text": [
      "<re.Match object; span=(16, 19), match='fox'>\n",
      "<re.Match object; span=(40, 43), match='dog'>\n",
      "None\n"
     ]
    }
   ],
   "source": [
    "import re\n",
    "\n",
    "Searched_words = [\"fox\", \"dog\", \"horse\"]\n",
    "found_words =[]\n",
    "\n",
    "text = \"The quick brown fox jumps over the lazy dog .\"\n",
    "for words in Searched_words:\n",
    "    match = re.search(words, text)\n",
    "    print(match)\n",
    "        \n",
    "        \n",
    "    \n",
    "    "
   ]
  },
  {
   "cell_type": "markdown",
   "id": "1b93a6ce",
   "metadata": {},
   "source": [
    "# question16"
   ]
  },
  {
   "cell_type": "code",
   "execution_count": 3,
   "id": "0b7316ab",
   "metadata": {},
   "outputs": [
    {
     "name": "stdout",
     "output_type": "stream",
     "text": [
      "<re.Match object; span=(16, 19), match='fox'>\n",
      "<re.Match object; span=(40, 43), match='dog'>\n",
      "None\n"
     ]
    }
   ],
   "source": [
    "import re\n",
    "\n",
    "Searched_words = [\"fox\", \"dog\", \"horse\"]\n",
    "\n",
    "text = \"The quick brown fox jumps over the lazy dog .\"\n",
    "for words in Searched_words:\n",
    "    match = re.search(words, text)\n",
    "    print(match)"
   ]
  },
  {
   "cell_type": "markdown",
   "id": "71d9a35c",
   "metadata": {},
   "source": [
    "# question17"
   ]
  },
  {
   "cell_type": "code",
   "execution_count": 1,
   "id": "bef76a19",
   "metadata": {},
   "outputs": [
    {
     "name": "stdout",
     "output_type": "stream",
     "text": [
      "['exercises', 'exercises', 'exercises']\n"
     ]
    }
   ],
   "source": [
    "import re\n",
    "\n",
    "sample_text = 'Python exercises, PHP exercises, C# exercises'\n",
    "\n",
    "substring_pattern = 'exercises'\n",
    "\n",
    "\n",
    "matches = [match.group() for match in re.finditer(substring_pattern, sample_text)]\n",
    "\n",
    "\n",
    "print(matches)"
   ]
  },
  {
   "cell_type": "markdown",
   "id": "d202fb3e",
   "metadata": {},
   "source": [
    "# question18"
   ]
  },
  {
   "cell_type": "code",
   "execution_count": 66,
   "id": "5f8b6d98",
   "metadata": {},
   "outputs": [
    {
     "name": "stdout",
     "output_type": "stream",
     "text": [
      "Found \"exercises\" at 7:16\n",
      "Found \"exercises\" at 22:31\n",
      "Found \"exercises\" at 36:45\n"
     ]
    }
   ],
   "source": [
    "text = 'Python exercises, PHP exercises, C# exercises'\n",
    "pattern = 'exercises'\n",
    "for match in re.finditer(pattern, text):\n",
    " s = match.start()\n",
    " e = match.end()\n",
    " print('Found \"%s\" at %d:%d' % (text[s:e], s, e))"
   ]
  },
  {
   "cell_type": "markdown",
   "id": "076280ef",
   "metadata": {},
   "source": [
    "# question19"
   ]
  },
  {
   "cell_type": "code",
   "execution_count": 4,
   "id": "b503df7b",
   "metadata": {},
   "outputs": [
    {
     "name": "stdout",
     "output_type": "stream",
     "text": [
      "26-08-2023\n"
     ]
    }
   ],
   "source": [
    "import re\n",
    "pattern = r'(\\d{4})-(\\d{2})-(\\d{2})'\n",
    "\n",
    "input_date = \"2023-08-26\"  \n",
    "converted_date = re.sub(pattern, r'\\3-\\2-\\1', input_date)\n",
    "print(converted_date)"
   ]
  },
  {
   "cell_type": "markdown",
   "id": "0dc77e58",
   "metadata": {},
   "source": [
    "# question20"
   ]
  },
  {
   "cell_type": "code",
   "execution_count": 10,
   "id": "6987a700",
   "metadata": {},
   "outputs": [
    {
     "name": "stdout",
     "output_type": "stream",
     "text": [
      "['01.12', '145.8', '3.01', '27.25', '0.25']\n"
     ]
    }
   ],
   "source": [
    "import re\n",
    "pattern =re.compile(r'\\b\\d+\\.\\d{1,2}\\b') \n",
    "\n",
    "\n",
    "Sample_Text= \"01.12 0132.123 2.31875 145.8 3.01 27.25 0.25\"\n",
    " \n",
    "filtered_numbers = pattern.findall(Sample_Text)\n",
    "print(filtered_numbers)"
   ]
  },
  {
   "cell_type": "markdown",
   "id": "dca7b2e7",
   "metadata": {},
   "source": [
    "# question21"
   ]
  },
  {
   "cell_type": "code",
   "execution_count": 13,
   "id": "196a3689",
   "metadata": {},
   "outputs": [
    {
     "name": "stdout",
     "output_type": "stream",
     "text": [
      "Number: 34, Position: 10\n",
      "Number: 31, Position: 20\n",
      "Number: 5, Position: 27\n"
     ]
    }
   ],
   "source": [
    "import re\n",
    "\n",
    "def separate_and_print_numbers(input_string):\n",
    "    pattern = re.compile(r'\\b\\d+\\b')\n",
    "    for match in pattern.finditer(input_string):\n",
    "        number = match.group()\n",
    "        position = match.start()\n",
    "        print(f\"Number: {number}, Position: {position}\")\n",
    "\n",
    "text = \"There are 34 apples 31 and 5 bananas on the table.\"\n",
    "separate_and_print_numbers(text)"
   ]
  },
  {
   "cell_type": "markdown",
   "id": "1a1b440e",
   "metadata": {},
   "source": [
    "# question22"
   ]
  },
  {
   "cell_type": "code",
   "execution_count": 23,
   "id": "874cafeb",
   "metadata": {},
   "outputs": [
    {
     "ename": "TypeError",
     "evalue": "'int' object is not callable",
     "output_type": "error",
     "traceback": [
      "\u001b[1;31m---------------------------------------------------------------------------\u001b[0m",
      "\u001b[1;31mTypeError\u001b[0m                                 Traceback (most recent call last)",
      "\u001b[1;32m~\\AppData\\Local\\Temp\\ipykernel_1264\\385898975.py\u001b[0m in \u001b[0;36m<module>\u001b[1;34m\u001b[0m\n\u001b[0;32m     12\u001b[0m \u001b[1;33m\u001b[0m\u001b[0m\n\u001b[0;32m     13\u001b[0m \u001b[1;31m# Find the maximum numeric value\u001b[0m\u001b[1;33m\u001b[0m\u001b[1;33m\u001b[0m\u001b[0m\n\u001b[1;32m---> 14\u001b[1;33m \u001b[0mmax_value\u001b[0m \u001b[1;33m=\u001b[0m \u001b[0mmax\u001b[0m\u001b[1;33m(\u001b[0m\u001b[0mmatched_integer\u001b[0m\u001b[1;33m)\u001b[0m\u001b[1;33m\u001b[0m\u001b[1;33m\u001b[0m\u001b[0m\n\u001b[0m\u001b[0;32m     15\u001b[0m \u001b[1;33m\u001b[0m\u001b[0m\n\u001b[0;32m     16\u001b[0m \u001b[1;31m# Print the maximum value\u001b[0m\u001b[1;33m\u001b[0m\u001b[1;33m\u001b[0m\u001b[0m\n",
      "\u001b[1;31mTypeError\u001b[0m: 'int' object is not callable"
     ]
    }
   ],
   "source": [
    "import re\n",
    "Sample_Text =  'My marks in each semester are: 947, 896, 926, 524, 734, 950, 642'\n",
    "pattern = re.compile(r'\\b\\d+')\n",
    "matched_string = re.findall(pattern,Sample_Text)\n",
    "matched_integer = [int(item) for item in matched_string]\n",
    "max_value = max(matched_integer)\n",
    "print(max_value)\n"
   ]
  },
  {
   "cell_type": "markdown",
   "id": "d61acea2",
   "metadata": {},
   "source": [
    "# question23"
   ]
  },
  {
   "cell_type": "code",
   "execution_count": 36,
   "id": "b7920ed9",
   "metadata": {},
   "outputs": [
    {
     "name": "stdout",
     "output_type": "stream",
     "text": [
      "Regular Expression Is An Important Topic In Python\n"
     ]
    }
   ],
   "source": [
    "import re\n",
    "Sample_Text= \"RegularExpressionIsAnImportantTopicInPython\"\n",
    "pattern = r'([a-z])([A-Z])'\n",
    "cleaned_text = re.sub(pattern,r'\\1 \\2',Sample_Text, flags= 1)\n",
    "print(cleaned_text)\n"
   ]
  },
  {
   "cell_type": "markdown",
   "id": "273705f5",
   "metadata": {},
   "source": [
    "# question24"
   ]
  },
  {
   "cell_type": "code",
   "execution_count": 39,
   "id": "808a54dc",
   "metadata": {},
   "outputs": [
    {
     "name": "stdout",
     "output_type": "stream",
     "text": [
      "['This', 'Is', 'Sample', 'Text', 'With', 'Sequences', 'Uppercase', 'Letters', 'Like', 'This', 'One']\n"
     ]
    }
   ],
   "source": [
    "import re\n",
    "\n",
    "text = \"This Is a Sample Text With Sequences_of Uppercase Letters Like This One.\"\n",
    "\n",
    "\n",
    "pattern = r'[A-Z][a-z]+'\n",
    "\n",
    "\n",
    "sequences = re.findall(pattern, text)\n",
    "\n",
    "\n",
    "print(sequences)\n"
   ]
  },
  {
   "cell_type": "markdown",
   "id": "e6e4fa51",
   "metadata": {},
   "source": [
    "# question25"
   ]
  },
  {
   "cell_type": "code",
   "execution_count": 40,
   "id": "85e9a37e",
   "metadata": {},
   "outputs": [
    {
     "name": "stdout",
     "output_type": "stream",
     "text": [
      "Hello hello world\n"
     ]
    }
   ],
   "source": [
    "import re \n",
    "Sample_Text = \"Hello hello world world\"\n",
    "\n",
    "pattern = r'\\b(\\w+)(\\s+\\1)+\\b'\n",
    "\n",
    "cleaned_sentence = re.sub(pattern, r'\\1', Sample_Text)\n",
    "print(cleaned_sentence)"
   ]
  },
  {
   "cell_type": "markdown",
   "id": "fa35a7bb",
   "metadata": {},
   "source": [
    "# question26"
   ]
  },
  {
   "cell_type": "code",
   "execution_count": 46,
   "id": "60889761",
   "metadata": {},
   "outputs": [
    {
     "name": "stdout",
     "output_type": "stream",
     "text": [
      "abc123\n",
      "wedfghj\n",
      "3erfgbn_9\n",
      "not matched\n"
     ]
    }
   ],
   "source": [
    "import re \n",
    "regex = r'[a-zA-z0-9]$'\n",
    "string = [\"abc123\",\"wedfghj\",\"3erfgbn_9\",\"dfgh@\"]\n",
    "for item in string:\n",
    "    if re.search(regex, item):\n",
    "        print(item)\n",
    "    else:\n",
    "        print(\"not matched\")\n",
    "        \n"
   ]
  },
  {
   "cell_type": "markdown",
   "id": "2de90c1d",
   "metadata": {},
   "source": [
    "# question27"
   ]
  },
  {
   "cell_type": "code",
   "execution_count": 51,
   "id": "4ff3aed9",
   "metadata": {},
   "outputs": [
    {
     "name": "stdout",
     "output_type": "stream",
     "text": [
      "['#Doltiwal', '#xyzabc', '#Demonetization']\n"
     ]
    }
   ],
   "source": [
    "Sample_Text= \"\"\"RT @kapil_kausik: #Doltiwal I mean #xyzabc is \"hurt\" by #Demonetization as the same has rendered USELESS <ed><U+00A0><U+00BD><ed><U+00B1><U+0089> \"acquired funds\" No wo\"\"\"\n",
    "import re \n",
    "regex = r'\\#[A-Za-z]+'\n",
    "output = re.findall(regex,Sample_Text)\n",
    "print(output)"
   ]
  },
  {
   "cell_type": "markdown",
   "id": "10ec0523",
   "metadata": {},
   "source": [
    "# question28"
   ]
  },
  {
   "cell_type": "code",
   "execution_count": 55,
   "id": "a8f1c8a1",
   "metadata": {},
   "outputs": [
    {
     "name": "stdout",
     "output_type": "stream",
     "text": [
      "@Jags123456 Bharat band on 28??<ed><ed>Those who  are protesting #demonetization  are all different party leaders\n"
     ]
    }
   ],
   "source": [
    "Sample_Text = \"@Jags123456 Bharat band on 28??<ed><U+00A0><U+00BD><ed><U+00B8><U+0082>Those who  are protesting #demonetization  are all different party leaders\"\n",
    "import re \n",
    "regex = r'<U\\+[A-Z0-9]+>'\n",
    "replaced_text = re.sub(regex,r'',Sample_Text)\n",
    "print(replaced_text)"
   ]
  },
  {
   "cell_type": "markdown",
   "id": "f1b176c5",
   "metadata": {},
   "source": [
    "# question29"
   ]
  },
  {
   "cell_type": "code",
   "execution_count": 63,
   "id": "c34c3a89",
   "metadata": {},
   "outputs": [
    {
     "name": "stdout",
     "output_type": "stream",
     "text": [
      "['12-09-1992', '15-12-1999']\n"
     ]
    }
   ],
   "source": [
    "pattern = r'\\d{2}-\\d{2}-\\d{4}'\n",
    "\n",
    "file_name = r'C:\\Users\\hp\\Downloads\\question29.txt'\n",
    "with open(file_name, 'r') as file:\n",
    "    contents = file.read()\n",
    "\n",
    "# Use re.search() to find the date string\n",
    "match = re.findall(pattern, contents)\n",
    "print(match)"
   ]
  },
  {
   "cell_type": "markdown",
   "id": "f0b46baf",
   "metadata": {},
   "source": [
    "# question30"
   ]
  },
  {
   "cell_type": "code",
   "execution_count": 65,
   "id": "12fb3240",
   "metadata": {},
   "outputs": [
    {
     "name": "stdout",
     "output_type": "stream",
     "text": [
      " following example creates  ArrayList  a capacity   elements. 4 elements   added   ArrayList   ArrayList  trimmed accordingly.\n"
     ]
    }
   ],
   "source": [
    "Sample_Text = \"The following example creates an ArrayList with a capacity of 50 elements. 4 elements are then added to the ArrayList and the ArrayList is trimmed accordingly.\"\n",
    "pattern = re.compile(r'\\b\\w{2,4}\\b')\n",
    "result = pattern.sub('',Sample_Text)\n",
    "print(result)"
   ]
  },
  {
   "cell_type": "code",
   "execution_count": null,
   "id": "d904fee8",
   "metadata": {},
   "outputs": [],
   "source": []
  }
 ],
 "metadata": {
  "kernelspec": {
   "display_name": "Python 3 (ipykernel)",
   "language": "python",
   "name": "python3"
  },
  "language_info": {
   "codemirror_mode": {
    "name": "ipython",
    "version": 3
   },
   "file_extension": ".py",
   "mimetype": "text/x-python",
   "name": "python",
   "nbconvert_exporter": "python",
   "pygments_lexer": "ipython3",
   "version": "3.9.13"
  }
 },
 "nbformat": 4,
 "nbformat_minor": 5
}
